{
 "cells": [
  {
   "cell_type": "code",
   "execution_count": 1,
   "metadata": {},
   "outputs": [],
   "source": [
    "!pip install --force --quiet --no-deps git+https://github.com/maxim-borisyak/pythia-mill.git"
   ]
  },
  {
   "cell_type": "code",
   "execution_count": 2,
   "metadata": {},
   "outputs": [],
   "source": [
    "from pythiamill import PythiaMill\n",
    "from pythiamill.utils import *\n",
    "from time import time\n",
    "\n",
    "import numpy as np\n",
    "\n",
    "from tqdm import tqdm_notebook as tqdm"
   ]
  },
  {
   "cell_type": "code",
   "execution_count": 3,
   "metadata": {},
   "outputs": [],
   "source": [
    "options=[\n",
    "  'Print:quiet = on',\n",
    "  'Init:showProcesses = off',\n",
    "  'Init:showMultipartonInteractions = off',\n",
    "  'Init:showChangedSettings = off',\n",
    "  'Init:showChangedParticleData = off',\n",
    "  'Next:numberCount=0',\n",
    "  'Next:numberShowInfo=0',\n",
    "  'Next:numberShowEvent=0',\n",
    "  'Stat:showProcessLevel=off',\n",
    "  'Stat:showErrors=off',\n",
    "  'Beams:idA =  2212',\n",
    "  \"Beams:idB = 2212\",\n",
    "  \"Beams:eCM = 8000\",\n",
    "  'HardQCD:all = on',\n",
    "  'PromptPhoton:all = on',\n",
    "  \"PhaseSpace:pTHatMin = 20\"\n",
    "  #'Random:seed=0'\n",
    "]"
   ]
  },
  {
   "cell_type": "code",
   "execution_count": 4,
   "metadata": {},
   "outputs": [],
   "source": [
    "n_batches = 1024\n",
    "batch_size = 32\n",
    "n_workers = 8\n",
    "\n",
    "detector = SVELO(\n",
    "    pseudorapidity_steps = 32, phi_steps = 32,\n",
    "    n_layers = 10, R_min=1, R_max = 21,\n",
    "    activation_probability=0.5\n",
    ")"
   ]
  },
  {
   "cell_type": "code",
   "execution_count": 5,
   "metadata": {},
   "outputs": [
    {
     "data": {
      "application/vnd.jupyter.widget-view+json": {
       "model_id": "8145fde4fb2e40d9a04ad38eada73d79",
       "version_major": 2,
       "version_minor": 0
      },
      "text/html": [
       "<p>Failed to display Jupyter Widget of type <code>HBox</code>.</p>\n",
       "<p>\n",
       "  If you're reading this message in Jupyter Notebook or JupyterLab, it may mean\n",
       "  that the widgets JavaScript is still loading. If this message persists, it\n",
       "  likely means that the widgets JavaScript library is either not installed or\n",
       "  not enabled. See the <a href=\"https://ipywidgets.readthedocs.io/en/stable/user_install.html\">Jupyter\n",
       "  Widgets Documentation</a> for setup instructions.\n",
       "</p>\n",
       "<p>\n",
       "  If you're reading this message in another notebook frontend (for example, a static\n",
       "  rendering on GitHub or <a href=\"https://nbviewer.jupyter.org/\">NBViewer</a>),\n",
       "  it may mean that your frontend doesn't currently support widgets.\n",
       "</p>\n"
      ],
      "text/plain": [
       "HBox(children=(IntProgress(value=0, max=1024), HTML(value='')))"
      ]
     },
     "metadata": {},
     "output_type": "display_data"
    },
    {
     "name": "stdout",
     "output_type": "stream",
     "text": [
      "\n"
     ]
    }
   ],
   "source": [
    "mill = PythiaMill(detector, options, cache_size=16, batch_size=batch_size, n_workers=n_workers, seed=123)\n",
    "\n",
    "data_train = np.vstack([\n",
    "mill.sample().reshape(-1, 10, 32, 32)\n",
    "    for _ in tqdm(range(n_batches))\n",
    "])\n",
    "mill.terminate()"
   ]
  },
  {
   "cell_type": "code",
   "execution_count": 6,
   "metadata": {},
   "outputs": [],
   "source": [
    "np.save('events_train.npy', data_train)\n",
    "\n",
    "del data_train"
   ]
  },
  {
   "cell_type": "code",
   "execution_count": 7,
   "metadata": {},
   "outputs": [
    {
     "data": {
      "application/vnd.jupyter.widget-view+json": {
       "model_id": "78fbc6334b6642839024f76f2b15276d",
       "version_major": 2,
       "version_minor": 0
      },
      "text/html": [
       "<p>Failed to display Jupyter Widget of type <code>HBox</code>.</p>\n",
       "<p>\n",
       "  If you're reading this message in Jupyter Notebook or JupyterLab, it may mean\n",
       "  that the widgets JavaScript is still loading. If this message persists, it\n",
       "  likely means that the widgets JavaScript library is either not installed or\n",
       "  not enabled. See the <a href=\"https://ipywidgets.readthedocs.io/en/stable/user_install.html\">Jupyter\n",
       "  Widgets Documentation</a> for setup instructions.\n",
       "</p>\n",
       "<p>\n",
       "  If you're reading this message in another notebook frontend (for example, a static\n",
       "  rendering on GitHub or <a href=\"https://nbviewer.jupyter.org/\">NBViewer</a>),\n",
       "  it may mean that your frontend doesn't currently support widgets.\n",
       "</p>\n"
      ],
      "text/plain": [
       "HBox(children=(IntProgress(value=0, max=1024), HTML(value='')))"
      ]
     },
     "metadata": {},
     "output_type": "display_data"
    },
    {
     "name": "stdout",
     "output_type": "stream",
     "text": [
      "\n"
     ]
    }
   ],
   "source": [
    "mill = PythiaMill(detector, options, cache_size=16, batch_size=batch_size, n_workers=n_workers, seed=123)\n",
    "\n",
    "data_test = np.vstack([\n",
    "mill.sample().reshape(-1, 10, 32, 32)\n",
    "    for _ in tqdm(range(n_batches))\n",
    "])\n",
    "mill.terminate()"
   ]
  },
  {
   "cell_type": "code",
   "execution_count": 8,
   "metadata": {},
   "outputs": [],
   "source": [
    "np.save('events_test.npy', data_test)\n",
    "\n",
    "del data_test"
   ]
  },
  {
   "cell_type": "code",
   "execution_count": 9,
   "metadata": {},
   "outputs": [
    {
     "data": {
      "application/vnd.jupyter.widget-view+json": {
       "model_id": "e4cca8594de04fbeb05daf6ee0b28b7f",
       "version_major": 2,
       "version_minor": 0
      },
      "text/html": [
       "<p>Failed to display Jupyter Widget of type <code>HBox</code>.</p>\n",
       "<p>\n",
       "  If you're reading this message in Jupyter Notebook or JupyterLab, it may mean\n",
       "  that the widgets JavaScript is still loading. If this message persists, it\n",
       "  likely means that the widgets JavaScript library is either not installed or\n",
       "  not enabled. See the <a href=\"https://ipywidgets.readthedocs.io/en/stable/user_install.html\">Jupyter\n",
       "  Widgets Documentation</a> for setup instructions.\n",
       "</p>\n",
       "<p>\n",
       "  If you're reading this message in another notebook frontend (for example, a static\n",
       "  rendering on GitHub or <a href=\"https://nbviewer.jupyter.org/\">NBViewer</a>),\n",
       "  it may mean that your frontend doesn't currently support widgets.\n",
       "</p>\n"
      ],
      "text/plain": [
       "HBox(children=(IntProgress(value=0, max=512), HTML(value='')))"
      ]
     },
     "metadata": {},
     "output_type": "display_data"
    },
    {
     "name": "stdout",
     "output_type": "stream",
     "text": [
      "\n"
     ]
    }
   ],
   "source": [
    "mill = PythiaMill(detector, options, cache_size=16, batch_size=batch_size, n_workers=n_workers, seed=124)\n",
    "\n",
    "data2 = np.vstack([\n",
    "    mill.sample().reshape(-1, 10, 32, 32)\n",
    "    for _ in tqdm(range(n_batches // 2))\n",
    "])\n",
    "mill.terminate()"
   ]
  },
  {
   "cell_type": "code",
   "execution_count": null,
   "metadata": {},
   "outputs": [],
   "source": [
    "np.save('events2.npy', data2)\n",
    "del data2"
   ]
  },
  {
   "cell_type": "code",
   "execution_count": null,
   "metadata": {},
   "outputs": [
    {
     "data": {
      "application/vnd.jupyter.widget-view+json": {
       "model_id": "b170af5a48284d658638e4679901f0cd",
       "version_major": 2,
       "version_minor": 0
      },
      "text/html": [
       "<p>Failed to display Jupyter Widget of type <code>HBox</code>.</p>\n",
       "<p>\n",
       "  If you're reading this message in Jupyter Notebook or JupyterLab, it may mean\n",
       "  that the widgets JavaScript is still loading. If this message persists, it\n",
       "  likely means that the widgets JavaScript library is either not installed or\n",
       "  not enabled. See the <a href=\"https://ipywidgets.readthedocs.io/en/stable/user_install.html\">Jupyter\n",
       "  Widgets Documentation</a> for setup instructions.\n",
       "</p>\n",
       "<p>\n",
       "  If you're reading this message in another notebook frontend (for example, a static\n",
       "  rendering on GitHub or <a href=\"https://nbviewer.jupyter.org/\">NBViewer</a>),\n",
       "  it may mean that your frontend doesn't currently support widgets.\n",
       "</p>\n"
      ],
      "text/plain": [
       "HBox(children=(IntProgress(value=0, max=512), HTML(value='')))"
      ]
     },
     "metadata": {},
     "output_type": "display_data"
    }
   ],
   "source": [
    "mill = PythiaMill(detector, options, cache_size=16, batch_size=batch_size, n_workers=n_workers, seed=124)\n",
    "\n",
    "data3 = np.vstack([\n",
    "    mill.sample().reshape(-1, 10, 32, 32)\n",
    "    for _ in tqdm(range(n_batches // 2))\n",
    "])\n",
    "mill.terminate()"
   ]
  },
  {
   "cell_type": "code",
   "execution_count": null,
   "metadata": {},
   "outputs": [],
   "source": [
    "np.save('events3.npy', data3)\n",
    "del data3"
   ]
  },
  {
   "cell_type": "markdown",
   "metadata": {},
   "source": [
    "## Introducing anomalies"
   ]
  },
  {
   "cell_type": "code",
   "execution_count": null,
   "metadata": {},
   "outputs": [],
   "source": [
    "import numpy as np\n",
    "\n",
    "%matplotlib inline\n",
    "import matplotlib.pyplot as plt"
   ]
  },
  {
   "cell_type": "code",
   "execution_count": null,
   "metadata": {},
   "outputs": [],
   "source": [
    "def anomalies(data, n_layers_affected):\n",
    "    y = np.ones(shape=(data.shape[0], data.shape[1]), dtype='int8')\n",
    "    for i in range(data.shape[0]):\n",
    "        n_layers = np.random.randint(low=1, high=n_layers_affected)\n",
    "        l_indx = np.random.choice(n_layers_affected, n_layers, replace=False)\n",
    "        y[i, l_indx] = 0\n",
    "        anomaly_type = np.array([-1, 1])[np.random.randint(0, 2, size=n_layers)]\n",
    "        \n",
    "        for j in range(n_layers):\n",
    "            k = l_indx[j]\n",
    "            if anomaly_type[j] == -1:\n",
    "                ### blackout\n",
    "                data[i, k] = 0\n",
    "            else:\n",
    "                ### noise\n",
    "                data[i, k] = np.random.binomial(1, p=0.2, size=data[i, j].shape)\n",
    "    return data, y"
   ]
  },
  {
   "cell_type": "code",
   "execution_count": null,
   "metadata": {},
   "outputs": [],
   "source": [
    "data2 = np.load('events2.npy')"
   ]
  },
  {
   "cell_type": "code",
   "execution_count": null,
   "metadata": {},
   "outputs": [],
   "source": [
    "anomalious1, y1 = anomalies(data2.copy(), 10)"
   ]
  },
  {
   "cell_type": "code",
   "execution_count": null,
   "metadata": {},
   "outputs": [],
   "source": [
    "n_pics = 10\n",
    "plt.figure(figsize=(30, 6 * n_pics))\n",
    "\n",
    "fi = 1\n",
    "\n",
    "for k in range(n_pics):\n",
    "    for i in range(10):\n",
    "        plt.subplot(n_pics * 2, 10, fi)\n",
    "        fi += 1\n",
    "        plt.imshow(data2[k, i])\n",
    "\n",
    "    for i in range(10):\n",
    "        plt.subplot(n_pics * 2, 10, fi)\n",
    "        fi += 1\n",
    "        plt.imshow(anomalious1[k, i])\n",
    "    \n",
    "plt.show()"
   ]
  },
  {
   "cell_type": "code",
   "execution_count": null,
   "metadata": {},
   "outputs": [],
   "source": [
    "np.save('anomalious_test', anomalious1)\n",
    "np.save('anomalious_test_labels', y1)"
   ]
  },
  {
   "cell_type": "code",
   "execution_count": null,
   "metadata": {},
   "outputs": [],
   "source": [
    "del data2\n",
    "del anomalious1"
   ]
  },
  {
   "cell_type": "code",
   "execution_count": null,
   "metadata": {},
   "outputs": [],
   "source": [
    "data3 = np.load('events3.npy')\n",
    "anomalious2, y2 = anomalies(data3.copy(), 3)"
   ]
  },
  {
   "cell_type": "code",
   "execution_count": null,
   "metadata": {},
   "outputs": [],
   "source": [
    "n_pics = 10\n",
    "plt.figure(figsize=(30, 6 * n_pics))\n",
    "\n",
    "fi = 1\n",
    "\n",
    "for k in range(n_pics):\n",
    "    for i in range(10):\n",
    "        plt.subplot(n_pics * 2, 10, fi)\n",
    "        fi += 1\n",
    "        plt.imshow(data3[k, i])\n",
    "\n",
    "    for i in range(10):\n",
    "        plt.subplot(n_pics * 2, 10, fi)\n",
    "        fi += 1\n",
    "        plt.imshow(anomalious2[k, i])\n",
    "    \n",
    "plt.show()"
   ]
  },
  {
   "cell_type": "code",
   "execution_count": null,
   "metadata": {},
   "outputs": [],
   "source": [
    "np.save('anomalious_train', anomalious2)\n",
    "np.save('anomalious_train_labels', anomalious2)"
   ]
  },
  {
   "cell_type": "code",
   "execution_count": null,
   "metadata": {},
   "outputs": [],
   "source": [
    "del data3\n",
    "del anomalious2"
   ]
  },
  {
   "cell_type": "code",
   "execution_count": null,
   "metadata": {},
   "outputs": [],
   "source": []
  }
 ],
 "metadata": {
  "kernelspec": {
   "display_name": "Python 3",
   "language": "python",
   "name": "python3"
  },
  "language_info": {
   "codemirror_mode": {
    "name": "ipython",
    "version": 3
   },
   "file_extension": ".py",
   "mimetype": "text/x-python",
   "name": "python",
   "nbconvert_exporter": "python",
   "pygments_lexer": "ipython3",
   "version": "3.6.2"
  }
 },
 "nbformat": 4,
 "nbformat_minor": 2
}
